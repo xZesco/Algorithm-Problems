{
 "cells": [
  {
   "cell_type": "code",
   "execution_count": 94,
   "id": "d528e67f",
   "metadata": {},
   "outputs": [],
   "source": [
    "# Python3 code for the above approach\n",
    " \n",
    "# function to schedule the jobs take 2\n",
    "# arguments array and no of jobs to schedule\n",
    " \n",
    "def printJobScheduling(arr, t):\n",
    " \n",
    "    # length of array\n",
    "    n = len(arr)\n",
    " \n",
    "    # Sort all jobs according to\n",
    "    # decreasing order of profit\n",
    "    for i in range(n):\n",
    "        for j in range(n - 1 - i):\n",
    "            if arr[j][2] < arr[j + 1][2]:\n",
    "                arr[j], arr[j + 1] = arr[j + 1], arr[j]\n",
    " \n",
    "    # To keep track of free time slots\n",
    "    result = [False] * t\n",
    " \n",
    "    # To store result (Sequence of jobs)\n",
    "    job = ['-1'] * t\n",
    "    number_of_jobs_done=0\n",
    "    max_profit=0\n",
    " \n",
    "    # Iterate through all given jobs\n",
    "    for i in range(len(arr)):\n",
    " \n",
    "        # Find a free slot for this job\n",
    "        # (Note that we start from the\n",
    "        # last possible slot)\n",
    "        for j in range(arr[i][1] - 1, -1, -1):\n",
    " \n",
    "            # Free slot found\n",
    "            if result[j] is False:\n",
    "                result[j] = True\n",
    "                job[j] = arr[i][0]\n",
    "                number_of_jobs_done=number_of_jobs_done+1\n",
    "                max_profit=arr[i][2]+max_profit\n",
    "                break\n",
    " \n",
    "    # print the sequence\n",
    "    job = [ele for ele in job if ele != '-1']\n",
    "    print(job)\n",
    "    print(\"Number of jobs done: \",number_of_jobs_done)\n",
    "    print(\"Max profit: \",max_profit)"
   ]
  },
  {
   "cell_type": "code",
   "execution_count": 95,
   "id": "3905df1c",
   "metadata": {},
   "outputs": [
    {
     "name": "stdout",
     "output_type": "stream",
     "text": [
      "Following is maximum profit sequence of jobs\n",
      "[3, 1]\n",
      "Number of jobs done:  2\n",
      "Max profit:  60\n"
     ]
    }
   ],
   "source": [
    "# Driver's Code\n",
    "if __name__ == '__main__':\n",
    "    arr = [[1, 4, 20],  # Job Array\n",
    "              [2, 1, 10],\n",
    "              [3, 1, 40],\n",
    "              [4, 1, 30]]\n",
    " \n",
    "    print(\"Following is maximum profit sequence of jobs\")\n",
    " \n",
    "    # Function Call\n",
    "    printJobScheduling(arr, 4)"
   ]
  },
  {
   "cell_type": "code",
   "execution_count": 105,
   "id": "816c2891",
   "metadata": {},
   "outputs": [],
   "source": [
    "def printJobScheduling(arr, t):\n",
    " \n",
    "    # length of array\n",
    "    n = len(arr)\n",
    " \n",
    "    # Sort all jobs according to\n",
    "    # decreasing order of profit\n",
    "    for i in range(n):\n",
    "        for j in range(n - 1 - i):\n",
    "            if arr[j][2] < arr[j + 1][2]:\n",
    "                arr[j], arr[j + 1] = arr[j + 1], arr[j]\n",
    " \n",
    "    # To keep track of free time slots\n",
    "    result = [False] * t\n",
    " \n",
    "    # To store result (Sequence of jobs)\n",
    "    job = ['-1'] * t\n",
    "    number_of_jobs_done=0\n",
    "    max_profit=0\n",
    "    no_of_jops_unabled_to_be_done=0\n",
    "    jobs_unabled_to_be_done=[]\n",
    " \n",
    "    # Iterate through all given jobs\n",
    "    for i in range(len(arr)):\n",
    " \n",
    "        # Find a free slot for this job\n",
    "        # (Note that we start from the\n",
    "        # last possible slot)\n",
    "        for j in range(arr[i][1] - 1, -1, -1):\n",
    " \n",
    "            # Free slot found\n",
    "            if result[j] is False:\n",
    "                result[j] = True\n",
    "                job[j] = arr[i][0]\n",
    "                number_of_jobs_done=number_of_jobs_done+1\n",
    "                max_profit=arr[i][2]+max_profit\n",
    "                break\n",
    "     \n",
    "    for k in range (len(arr)):\n",
    "        if not arr[k][0] in job:\n",
    "            jobs_unabled_to_be_done.append(arr[k][0])\n",
    "            \n",
    "    no_of_jops_unabled_to_be_done=len(jobs_unabled_to_be_done)\n",
    "    job = [ele for ele in job if ele != '-1']\n",
    "    # print the sequence\n",
    "    print(job)\n",
    "    print(\"Number of jobs done: \",number_of_jobs_done)\n",
    "    print(\"Max profit: \",max_profit)\n",
    "    print(\"jobs unabled to be done: \",jobs_unabled_to_be_done)\n",
    "    print(\"Number of jobs cannot be done: \",no_of_jops_unabled_to_be_done)"
   ]
  },
  {
   "cell_type": "code",
   "execution_count": 106,
   "id": "f27e8132",
   "metadata": {},
   "outputs": [
    {
     "name": "stdout",
     "output_type": "stream",
     "text": [
      "Following is maximum profit sequence of jobs\n",
      "[3, 1]\n",
      "Number of jobs done:  2\n",
      "Max profit:  60\n",
      "jobs unabled to be done:  [4, 2]\n",
      "Number of jobs cannot be done:  2\n"
     ]
    }
   ],
   "source": [
    "# Driver's Code\n",
    "if __name__ == '__main__':\n",
    "    arr = [[1, 4, 20],  # Job Array\n",
    "              [2, 1, 10],\n",
    "              [3, 1, 40],\n",
    "              [4, 1, 30]]\n",
    " \n",
    " \n",
    "    print(\"Following is maximum profit sequence of jobs\")\n",
    " \n",
    "    # Function Call\n",
    "    printJobScheduling(arr, 4)"
   ]
  },
  {
   "cell_type": "code",
   "execution_count": null,
   "id": "62bd5b06",
   "metadata": {},
   "outputs": [],
   "source": []
  }
 ],
 "metadata": {
  "kernelspec": {
   "display_name": "Python 3 (ipykernel)",
   "language": "python",
   "name": "python3"
  },
  "language_info": {
   "codemirror_mode": {
    "name": "ipython",
    "version": 3
   },
   "file_extension": ".py",
   "mimetype": "text/x-python",
   "name": "python",
   "nbconvert_exporter": "python",
   "pygments_lexer": "ipython3",
   "version": "3.9.13"
  }
 },
 "nbformat": 4,
 "nbformat_minor": 5
}
