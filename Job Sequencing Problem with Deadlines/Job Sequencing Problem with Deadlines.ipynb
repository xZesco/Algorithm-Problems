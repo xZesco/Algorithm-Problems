{
 "cells": [
  {
   "cell_type": "code",
   "execution_count": 1,
   "metadata": {},
   "outputs": [
    {
     "name": "stdout",
     "output_type": "stream",
     "text": [
      "The scheduled jobs are [3, 1]\n",
      "The total profit earned is 60\n"
     ]
    }
   ],
   "source": [
    "#A class to store job details.\n",
    "class Job:\n",
    "    def __init__(self, jobID, deadline, profit):\n",
    "        self.jobID = jobID\n",
    "        self.deadline = deadline\n",
    "        self.profit = profit\n",
    "\n",
    "\n",
    "\n",
    "\n",
    "#____________________________________________________________________________________________________________\n",
    "\n",
    "\n",
    "\n",
    "#Function to schedule jobs to maximize profit\n",
    "def job_sequencing(jobs):\n",
    " \n",
    "    #stores the maximum profit that can be earned\n",
    "    profit = 0\n",
    "\n",
    "    #As there is no maximum deadline so we will use 24 hour as a day\n",
    "    time = 24\n",
    " \n",
    "    #list to store used and unused slots for our variable time\n",
    "    slot = [0] * time\n",
    "    \"\"\" print(slot) \"\"\"\n",
    " \n",
    "    #sort the jobs according to decreasing order of their profits\n",
    "    jobs.sort(key=lambda x: x.profit, reverse=True)\n",
    " \n",
    "    #consider every job\n",
    "    for job in jobs:\n",
    "        #search for the next free slot and map the task to that slot\n",
    "        #we used reversed order to schedule the job in the latest possible slot (nearest to the deadline)\n",
    "        for j in reversed(range(job.deadline)):\n",
    "            if slot[j] == 0:\n",
    "                slot[j] = job.jobID\n",
    "                profit += job.profit\n",
    "                break\n",
    " \n",
    "    #print the scheduled jobs and remove the empty slots\n",
    "    print('The scheduled jobs are', list(filter(lambda x: x != 0, slot)))\n",
    " \n",
    "    #print total profit that can be earned\n",
    "    print('The total profit earned is', profit)\n",
    "\n",
    "\n",
    "\n",
    "\n",
    "#____________________________________________________________________________________________________________\n",
    " \n",
    " \n",
    "\n",
    "if __name__ == '__main__':\n",
    " \n",
    "    #List of given jobs\n",
    "    jobs = [\n",
    "        Job(1, 4, 20),\n",
    "        Job(2, 1, 10),\n",
    "        Job(3, 1, 40),\n",
    "        Job(4, 1, 30)\n",
    "    ]\n",
    " \n",
    "    #schedule jobs and calculate the maximum profit\n",
    "    job_sequencing(jobs)"
   ]
  }
 ],
 "metadata": {
  "kernelspec": {
   "display_name": "Python 3",
   "language": "python",
   "name": "python3"
  },
  "language_info": {
   "codemirror_mode": {
    "name": "ipython",
    "version": 3
   },
   "file_extension": ".py",
   "mimetype": "text/x-python",
   "name": "python",
   "nbconvert_exporter": "python",
   "pygments_lexer": "ipython3",
   "version": "3.10.8"
  },
  "orig_nbformat": 4
 },
 "nbformat": 4,
 "nbformat_minor": 2
}
